{
 "cells": [
  {
   "cell_type": "code",
   "execution_count": 1,
   "metadata": {},
   "outputs": [],
   "source": [
    "from ipywidgets import Label, HTML, Text, Video\n",
    "from IPython.display import display\n",
    "from ipyevents import Event \n",
    "\n",
    "linkA=\"https://raw.githubusercontent.com/kolibril13/jupyter_video_presentation/master/001.mp4\"\n",
    "linkB=\"https://raw.githubusercontent.com/kolibril13/jupyter_video_presentation/master/002.mp4\"\n",
    "linkC=\"https://raw.githubusercontent.com/kolibril13/jupyter_video_presentation/master/003.mp4\"\n",
    "video_list=[linkA,linkB,linkC]\n",
    "h = Text (\"Box1\")\n",
    "pos_info = Text(\"Box2\")\n",
    "debug = Text(\"Counter\")"
   ]
  },
  {
   "cell_type": "code",
   "execution_count": 6,
   "metadata": {},
   "outputs": [],
   "source": [
    "def video_loader(filename):\n",
    "    with open(filename, 'rb') as f:\n",
    "        video.value = f.read()\n",
    "counter = 0\n",
    "def video_change(x):\n",
    "    global counter\n",
    "    if x < 0.25:\n",
    "        h.value= \"click position:\" + str(x) + \"  left\"\n",
    "        if counter > 0:\n",
    "            counter -= 1\n",
    "        video_loader(video_list[counter])\n",
    "\n",
    "\n",
    "    elif x > 0.75:\n",
    "        h.value= \"click position:\" + str(x) + \"  right\"\n",
    "        if counter < len(video_list)-1:\n",
    "            counter += 1\n",
    "        video_loader(video_list[counter])\n",
    "\n",
    "\n",
    "    else:\n",
    "        h.value= \"click position:\" + str(x) + \"  center\"\n",
    "\n",
    "def handle_events(event):\n",
    "    x_pos = event[\"offsetX\"]/event[\"boundingRectWidth\"]\n",
    "    y_pos = event[\"offsetY\"]/event[\"boundingRectHeight\"]\n",
    "    pos_info.value = f\"Coordinates(in %): {x_pos:.3}\" + \" \" + f\"{y_pos:.3}\" \n",
    "    video_change(x_pos)\n",
    "    debug.value= f\"Counter = {counter}\"\n"
   ]
  },
  {
   "cell_type": "code",
   "execution_count": 7,
   "metadata": {},
   "outputs": [
    {
     "data": {
      "application/vnd.jupyter.widget-view+json": {
       "model_id": "f80cdb2a8b8c4d009d5e664b726bc88c",
       "version_major": 2,
       "version_minor": 0
      },
      "text/plain": [
       "Video(value=b'https://raw.githubusercontent.com/kolibril13/jupyter_video_presentation/master/001.mp4', control…"
      ]
     },
     "metadata": {},
     "output_type": "display_data"
    },
    {
     "data": {
      "application/vnd.jupyter.widget-view+json": {
       "model_id": "df4e27965ff6473fbb36fe844f66bde9",
       "version_major": 2,
       "version_minor": 0
      },
      "text/plain": [
       "Text(value='click position:0.914  right')"
      ]
     },
     "metadata": {},
     "output_type": "display_data"
    },
    {
     "data": {
      "application/vnd.jupyter.widget-view+json": {
       "model_id": "cce3727330464662bb68854694622050",
       "version_major": 2,
       "version_minor": 0
      },
      "text/plain": [
       "Text(value='Coordinates(in %): 0.914 0.391')"
      ]
     },
     "metadata": {},
     "output_type": "display_data"
    },
    {
     "data": {
      "application/vnd.jupyter.widget-view+json": {
       "model_id": "9655c8e048a14fa7a7c47c5caaa3c8f3",
       "version_major": 2,
       "version_minor": 0
      },
      "text/plain": [
       "Text(value='Counter = 2')"
      ]
     },
     "metadata": {},
     "output_type": "display_data"
    }
   ],
   "source": [
    "\n",
    "video = Video.from_url(video_list[0])\n",
    "\n",
    "video.controls  = False\n",
    "video.loop = False\n",
    "video.width= 500\n",
    "d= Event(source= video, watched_events = ['click'])    \n",
    "d.on_dom_event(handle_events)\n",
    "display(video, h, pos_info, debug)"
   ]
  },
  {
   "cell_type": "code",
   "execution_count": null,
   "metadata": {},
   "outputs": [],
   "source": []
  },
  {
   "cell_type": "code",
   "execution_count": null,
   "metadata": {},
   "outputs": [],
   "source": []
  }
 ],
 "metadata": {
  "kernelspec": {
   "display_name": "Python 3",
   "language": "python",
   "name": "python3"
  },
  "language_info": {
   "codemirror_mode": {
    "name": "ipython",
    "version": 3
   },
   "file_extension": ".py",
   "mimetype": "text/x-python",
   "name": "python",
   "nbconvert_exporter": "python",
   "pygments_lexer": "ipython3",
   "version": "3.7.3"
  }
 },
 "nbformat": 4,
 "nbformat_minor": 2
}
