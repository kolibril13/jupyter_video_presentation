{
 "cells": [
  {
   "cell_type": "code",
   "execution_count": 7,
   "metadata": {},
   "outputs": [],
   "source": [
    "from ipywidgets import Label, HTML, Text, Video\n",
    "from IPython.display import display\n",
    "from ipyevents import Event \n",
    "fileA= '001.mp4'\n",
    "fileB= '002.mp4'\n",
    "fileC= '003.mp4'\n",
    "video_list= [fileA, fileB, fileC]\n",
    "h = Text (\"Box1\")\n",
    "pos_info = Text(\"Box2\")\n",
    "debug = Text(\"Counter\")"
   ]
  },
  {
   "cell_type": "code",
   "execution_count": 8,
   "metadata": {},
   "outputs": [],
   "source": [
    "def video_loader(filename):\n",
    "    with open(filename, 'rb') as f:\n",
    "        video.value = f.read()\n",
    "counter = 0\n",
    "def video_change(x):\n",
    "    global counter\n",
    "    if x < 0.25:\n",
    "        h.value= \"click position:\" + str(x) + \"  left\"\n",
    "        if counter > 0:\n",
    "            counter -= 1\n",
    "        video_loader(video_list[counter])\n",
    "\n",
    "\n",
    "    elif x > 0.75:\n",
    "        h.value= \"click position:\" + str(x) + \"  right\"\n",
    "        if counter < len(video_list)-1:\n",
    "            counter += 1\n",
    "        video_loader(video_list[counter])\n",
    "\n",
    "\n",
    "    else:\n",
    "        h.value= \"click position:\" + str(x) + \"  center\"\n",
    "\n",
    "def handle_events(event):\n",
    "    x_pos = event[\"offsetX\"]/event[\"boundingRectWidth\"]\n",
    "    y_pos = event[\"offsetY\"]/event[\"boundingRectHeight\"]\n",
    "    pos_info.value = f\"Coordinates(in %): {x_pos:.3}\" + \" \" + f\"{y_pos:.3}\" \n",
    "    video_change(x_pos)\n",
    "    debug.value= f\"Counter = {counter}\"\n"
   ]
  },
  {
   "cell_type": "code",
   "execution_count": 9,
   "metadata": {},
   "outputs": [
    {
     "data": {
      "application/vnd.jupyter.widget-view+json": {
       "model_id": "18118a58e7674eeabda395e70270b918",
       "version_major": 2,
       "version_minor": 0
      },
      "text/plain": [
       "Video(value=b'\\x00\\x00\\x00 ftypisom\\x00\\x00\\x02\\x00isomiso2avc1mp41\\x00\\x00\\x00\\x08free\\x00\\x01\\xc8vmdat\\x00\\x…"
      ]
     },
     "metadata": {},
     "output_type": "display_data"
    },
    {
     "data": {
      "application/vnd.jupyter.widget-view+json": {
       "model_id": "35f358a21865468ea6f1ce7cd721234a",
       "version_major": 2,
       "version_minor": 0
      },
      "text/plain": [
       "Text(value='Box1')"
      ]
     },
     "metadata": {},
     "output_type": "display_data"
    },
    {
     "data": {
      "application/vnd.jupyter.widget-view+json": {
       "model_id": "6fc691aebc4441828f66cc44c71dbe81",
       "version_major": 2,
       "version_minor": 0
      },
      "text/plain": [
       "Text(value='Box2')"
      ]
     },
     "metadata": {},
     "output_type": "display_data"
    },
    {
     "data": {
      "application/vnd.jupyter.widget-view+json": {
       "model_id": "251fabc0675a46efbb914c4737214184",
       "version_major": 2,
       "version_minor": 0
      },
      "text/plain": [
       "Text(value='Counter')"
      ]
     },
     "metadata": {},
     "output_type": "display_data"
    }
   ],
   "source": [
    "video = Video.from_file(video_list[0])\n",
    "video.controls  = False\n",
    "video.loop = False\n",
    "video.width= 500\n",
    "d= Event(source= video, watched_events = ['click'])    \n",
    "d.on_dom_event(handle_events)\n",
    "display(video, h, pos_info, debug)"
   ]
  },
  {
   "cell_type": "code",
   "execution_count": null,
   "metadata": {},
   "outputs": [],
   "source": []
  }
 ],
 "metadata": {
  "kernelspec": {
   "display_name": "Python 3",
   "language": "python",
   "name": "python3"
  },
  "language_info": {
   "codemirror_mode": {
    "name": "ipython",
    "version": 3
   },
   "file_extension": ".py",
   "mimetype": "text/x-python",
   "name": "python",
   "nbconvert_exporter": "python",
   "pygments_lexer": "ipython3",
   "version": "3.7.3"
  }
 },
 "nbformat": 4,
 "nbformat_minor": 2
}
