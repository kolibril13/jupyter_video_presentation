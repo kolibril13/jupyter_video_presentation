{
 "cells": [
  {
   "cell_type": "code",
   "execution_count": 2,
   "metadata": {
    "scrolled": true
   },
   "outputs": [
    {
     "data": {
      "application/vnd.jupyter.widget-view+json": {
       "model_id": "3cba62810ca24cc78401713e51381926",
       "version_major": 2,
       "version_minor": 0
      },
      "text/plain": [
       "Video(value=b'https://raw.githubusercontent.com/kolibril13/interactive_videos/master/b3.mp4', controls='False'…"
      ]
     },
     "metadata": {},
     "output_type": "display_data"
    }
   ],
   "source": [
    "from ipywidgets import Label, HTML, HBox, Image, VBox, Box, Video, Text\n",
    "from ipyevents import Event \n",
    "from IPython.display import display\n",
    "url=\"https://raw.githubusercontent.com/kolibril13/interactive_videos/master/b1.mp4\"\n",
    "video1 = Video.from_url(url)\n",
    "video1.controls  = False\n",
    "video1.loop = False\n",
    "video1.width= 500\n",
    "url2=\"https://raw.githubusercontent.com/kolibril13/interactive_videos/master/b2.mp4\"\n",
    "video2 = Video.from_url(url2)\n",
    "video2.controls  = False\n",
    "video2.loop = False\n",
    "video2.width= 500\n",
    "\n",
    "url3=\"https://raw.githubusercontent.com/kolibril13/interactive_videos/master/b3.mp4\"\n",
    "video3 = Video.from_url(url3)\n",
    "video3.controls  = False\n",
    "video3.loop = False\n",
    "video3.width= 500\n",
    "video3"
   ]
  },
  {
   "cell_type": "code",
   "execution_count": null,
   "metadata": {},
   "outputs": [],
   "source": []
  }
 ],
 "metadata": {
  "kernelspec": {
   "display_name": "Python 3",
   "language": "python",
   "name": "python3"
  },
  "language_info": {
   "codemirror_mode": {
    "name": "ipython",
    "version": 3
   },
   "file_extension": ".py",
   "mimetype": "text/x-python",
   "name": "python",
   "nbconvert_exporter": "python",
   "pygments_lexer": "ipython3",
   "version": "3.7.3"
  }
 },
 "nbformat": 4,
 "nbformat_minor": 2
}
